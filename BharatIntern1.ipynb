{
  "nbformat": 4,
  "nbformat_minor": 0,
  "metadata": {
    "colab": {
      "provenance": []
    },
    "kernelspec": {
      "name": "python3",
      "display_name": "Python 3"
    },
    "language_info": {
      "name": "python"
    }
  },
  "cells": [
    {
      "cell_type": "code",
      "execution_count": 1,
      "metadata": {
        "id": "9mYagLzBccbJ"
      },
      "outputs": [],
      "source": [
        "import pandas as pd\n",
        "import numpy as np\n",
        "import math\n",
        "import seaborn as sns\n",
        "import matplotlib.pyplot as plt\n",
        "from scipy import stats\n",
        "from datetime import datetime\n",
        "import plotly.graph_objects as go\n",
        "from sklearn.preprocessing import MinMaxScaler\n",
        "from tensorflow import keras\n",
        "from keras.models import Sequential\n",
        "from keras.layers import Dense,LSTM,Dropout\n",
        "from keras import optimizers\n"
      ]
    },
    {
      "cell_type": "code",
      "source": [
        "data = pd.read_csv(\"reliance_data.csv\")\n",
        "data.head()"
      ],
      "metadata": {
        "colab": {
          "base_uri": "https://localhost:8080/",
          "height": 206
        },
        "id": "VVs1FxMYd0NH",
        "outputId": "aa2f7208-2256-453d-cb0f-85b05e0afe4f"
      },
      "execution_count": 2,
      "outputs": [
        {
          "output_type": "execute_result",
          "data": {
            "text/plain": [
              "         Date    Symbol Series  Prev Close    Open    High     Low  Last  \\\n",
              "0  01-01-1996  RELIANCE     EQ      204.65  205.00  206.10  203.65   NaN   \n",
              "1  02-01-1996  RELIANCE     EQ      205.75  205.25  206.25  202.65   NaN   \n",
              "2  03-01-1996  RELIANCE     EQ      204.15  207.50  216.95  205.25   NaN   \n",
              "3  04-01-1996  RELIANCE     EQ      205.70  203.75  204.40  201.05   NaN   \n",
              "4  05-01-1996  RELIANCE     EQ      203.80  203.00  203.00  200.65   NaN   \n",
              "\n",
              "    Close    VWAP   Volume      Turnover  Trades  Deliverable Volume  \\\n",
              "0  205.75  205.26  3717450  7.630000e+13     NaN                 NaN   \n",
              "1  204.15  204.13  6024650  1.230000e+14     NaN                 NaN   \n",
              "2  205.70  207.04  7473500  1.550000e+14     NaN                 NaN   \n",
              "3  203.80  202.47  7744000  1.570000e+14     NaN                 NaN   \n",
              "4  202.40  202.05  5952000  1.200000e+14     NaN                 NaN   \n",
              "\n",
              "   %Deliverble  \n",
              "0          NaN  \n",
              "1          NaN  \n",
              "2          NaN  \n",
              "3          NaN  \n",
              "4          NaN  "
            ],
            "text/html": [
              "\n",
              "  <div id=\"df-53431ef1-498d-4680-9b45-f6b94dce3e99\" class=\"colab-df-container\">\n",
              "    <div>\n",
              "<style scoped>\n",
              "    .dataframe tbody tr th:only-of-type {\n",
              "        vertical-align: middle;\n",
              "    }\n",
              "\n",
              "    .dataframe tbody tr th {\n",
              "        vertical-align: top;\n",
              "    }\n",
              "\n",
              "    .dataframe thead th {\n",
              "        text-align: right;\n",
              "    }\n",
              "</style>\n",
              "<table border=\"1\" class=\"dataframe\">\n",
              "  <thead>\n",
              "    <tr style=\"text-align: right;\">\n",
              "      <th></th>\n",
              "      <th>Date</th>\n",
              "      <th>Symbol</th>\n",
              "      <th>Series</th>\n",
              "      <th>Prev Close</th>\n",
              "      <th>Open</th>\n",
              "      <th>High</th>\n",
              "      <th>Low</th>\n",
              "      <th>Last</th>\n",
              "      <th>Close</th>\n",
              "      <th>VWAP</th>\n",
              "      <th>Volume</th>\n",
              "      <th>Turnover</th>\n",
              "      <th>Trades</th>\n",
              "      <th>Deliverable Volume</th>\n",
              "      <th>%Deliverble</th>\n",
              "    </tr>\n",
              "  </thead>\n",
              "  <tbody>\n",
              "    <tr>\n",
              "      <th>0</th>\n",
              "      <td>01-01-1996</td>\n",
              "      <td>RELIANCE</td>\n",
              "      <td>EQ</td>\n",
              "      <td>204.65</td>\n",
              "      <td>205.00</td>\n",
              "      <td>206.10</td>\n",
              "      <td>203.65</td>\n",
              "      <td>NaN</td>\n",
              "      <td>205.75</td>\n",
              "      <td>205.26</td>\n",
              "      <td>3717450</td>\n",
              "      <td>7.630000e+13</td>\n",
              "      <td>NaN</td>\n",
              "      <td>NaN</td>\n",
              "      <td>NaN</td>\n",
              "    </tr>\n",
              "    <tr>\n",
              "      <th>1</th>\n",
              "      <td>02-01-1996</td>\n",
              "      <td>RELIANCE</td>\n",
              "      <td>EQ</td>\n",
              "      <td>205.75</td>\n",
              "      <td>205.25</td>\n",
              "      <td>206.25</td>\n",
              "      <td>202.65</td>\n",
              "      <td>NaN</td>\n",
              "      <td>204.15</td>\n",
              "      <td>204.13</td>\n",
              "      <td>6024650</td>\n",
              "      <td>1.230000e+14</td>\n",
              "      <td>NaN</td>\n",
              "      <td>NaN</td>\n",
              "      <td>NaN</td>\n",
              "    </tr>\n",
              "    <tr>\n",
              "      <th>2</th>\n",
              "      <td>03-01-1996</td>\n",
              "      <td>RELIANCE</td>\n",
              "      <td>EQ</td>\n",
              "      <td>204.15</td>\n",
              "      <td>207.50</td>\n",
              "      <td>216.95</td>\n",
              "      <td>205.25</td>\n",
              "      <td>NaN</td>\n",
              "      <td>205.70</td>\n",
              "      <td>207.04</td>\n",
              "      <td>7473500</td>\n",
              "      <td>1.550000e+14</td>\n",
              "      <td>NaN</td>\n",
              "      <td>NaN</td>\n",
              "      <td>NaN</td>\n",
              "    </tr>\n",
              "    <tr>\n",
              "      <th>3</th>\n",
              "      <td>04-01-1996</td>\n",
              "      <td>RELIANCE</td>\n",
              "      <td>EQ</td>\n",
              "      <td>205.70</td>\n",
              "      <td>203.75</td>\n",
              "      <td>204.40</td>\n",
              "      <td>201.05</td>\n",
              "      <td>NaN</td>\n",
              "      <td>203.80</td>\n",
              "      <td>202.47</td>\n",
              "      <td>7744000</td>\n",
              "      <td>1.570000e+14</td>\n",
              "      <td>NaN</td>\n",
              "      <td>NaN</td>\n",
              "      <td>NaN</td>\n",
              "    </tr>\n",
              "    <tr>\n",
              "      <th>4</th>\n",
              "      <td>05-01-1996</td>\n",
              "      <td>RELIANCE</td>\n",
              "      <td>EQ</td>\n",
              "      <td>203.80</td>\n",
              "      <td>203.00</td>\n",
              "      <td>203.00</td>\n",
              "      <td>200.65</td>\n",
              "      <td>NaN</td>\n",
              "      <td>202.40</td>\n",
              "      <td>202.05</td>\n",
              "      <td>5952000</td>\n",
              "      <td>1.200000e+14</td>\n",
              "      <td>NaN</td>\n",
              "      <td>NaN</td>\n",
              "      <td>NaN</td>\n",
              "    </tr>\n",
              "  </tbody>\n",
              "</table>\n",
              "</div>\n",
              "    <div class=\"colab-df-buttons\">\n",
              "\n",
              "  <div class=\"colab-df-container\">\n",
              "    <button class=\"colab-df-convert\" onclick=\"convertToInteractive('df-53431ef1-498d-4680-9b45-f6b94dce3e99')\"\n",
              "            title=\"Convert this dataframe to an interactive table.\"\n",
              "            style=\"display:none;\">\n",
              "\n",
              "  <svg xmlns=\"http://www.w3.org/2000/svg\" height=\"24px\" viewBox=\"0 -960 960 960\">\n",
              "    <path d=\"M120-120v-720h720v720H120Zm60-500h600v-160H180v160Zm220 220h160v-160H400v160Zm0 220h160v-160H400v160ZM180-400h160v-160H180v160Zm440 0h160v-160H620v160ZM180-180h160v-160H180v160Zm440 0h160v-160H620v160Z\"/>\n",
              "  </svg>\n",
              "    </button>\n",
              "\n",
              "  <style>\n",
              "    .colab-df-container {\n",
              "      display:flex;\n",
              "      gap: 12px;\n",
              "    }\n",
              "\n",
              "    .colab-df-convert {\n",
              "      background-color: #E8F0FE;\n",
              "      border: none;\n",
              "      border-radius: 50%;\n",
              "      cursor: pointer;\n",
              "      display: none;\n",
              "      fill: #1967D2;\n",
              "      height: 32px;\n",
              "      padding: 0 0 0 0;\n",
              "      width: 32px;\n",
              "    }\n",
              "\n",
              "    .colab-df-convert:hover {\n",
              "      background-color: #E2EBFA;\n",
              "      box-shadow: 0px 1px 2px rgba(60, 64, 67, 0.3), 0px 1px 3px 1px rgba(60, 64, 67, 0.15);\n",
              "      fill: #174EA6;\n",
              "    }\n",
              "\n",
              "    .colab-df-buttons div {\n",
              "      margin-bottom: 4px;\n",
              "    }\n",
              "\n",
              "    [theme=dark] .colab-df-convert {\n",
              "      background-color: #3B4455;\n",
              "      fill: #D2E3FC;\n",
              "    }\n",
              "\n",
              "    [theme=dark] .colab-df-convert:hover {\n",
              "      background-color: #434B5C;\n",
              "      box-shadow: 0px 1px 3px 1px rgba(0, 0, 0, 0.15);\n",
              "      filter: drop-shadow(0px 1px 2px rgba(0, 0, 0, 0.3));\n",
              "      fill: #FFFFFF;\n",
              "    }\n",
              "  </style>\n",
              "\n",
              "    <script>\n",
              "      const buttonEl =\n",
              "        document.querySelector('#df-53431ef1-498d-4680-9b45-f6b94dce3e99 button.colab-df-convert');\n",
              "      buttonEl.style.display =\n",
              "        google.colab.kernel.accessAllowed ? 'block' : 'none';\n",
              "\n",
              "      async function convertToInteractive(key) {\n",
              "        const element = document.querySelector('#df-53431ef1-498d-4680-9b45-f6b94dce3e99');\n",
              "        const dataTable =\n",
              "          await google.colab.kernel.invokeFunction('convertToInteractive',\n",
              "                                                    [key], {});\n",
              "        if (!dataTable) return;\n",
              "\n",
              "        const docLinkHtml = 'Like what you see? Visit the ' +\n",
              "          '<a target=\"_blank\" href=https://colab.research.google.com/notebooks/data_table.ipynb>data table notebook</a>'\n",
              "          + ' to learn more about interactive tables.';\n",
              "        element.innerHTML = '';\n",
              "        dataTable['output_type'] = 'display_data';\n",
              "        await google.colab.output.renderOutput(dataTable, element);\n",
              "        const docLink = document.createElement('div');\n",
              "        docLink.innerHTML = docLinkHtml;\n",
              "        element.appendChild(docLink);\n",
              "      }\n",
              "    </script>\n",
              "  </div>\n",
              "\n",
              "\n",
              "<div id=\"df-da7d73f2-540b-4c00-a5ec-b3db6141712f\">\n",
              "  <button class=\"colab-df-quickchart\" onclick=\"quickchart('df-da7d73f2-540b-4c00-a5ec-b3db6141712f')\"\n",
              "            title=\"Suggest charts\"\n",
              "            style=\"display:none;\">\n",
              "\n",
              "<svg xmlns=\"http://www.w3.org/2000/svg\" height=\"24px\"viewBox=\"0 0 24 24\"\n",
              "     width=\"24px\">\n",
              "    <g>\n",
              "        <path d=\"M19 3H5c-1.1 0-2 .9-2 2v14c0 1.1.9 2 2 2h14c1.1 0 2-.9 2-2V5c0-1.1-.9-2-2-2zM9 17H7v-7h2v7zm4 0h-2V7h2v10zm4 0h-2v-4h2v4z\"/>\n",
              "    </g>\n",
              "</svg>\n",
              "  </button>\n",
              "\n",
              "<style>\n",
              "  .colab-df-quickchart {\n",
              "      --bg-color: #E8F0FE;\n",
              "      --fill-color: #1967D2;\n",
              "      --hover-bg-color: #E2EBFA;\n",
              "      --hover-fill-color: #174EA6;\n",
              "      --disabled-fill-color: #AAA;\n",
              "      --disabled-bg-color: #DDD;\n",
              "  }\n",
              "\n",
              "  [theme=dark] .colab-df-quickchart {\n",
              "      --bg-color: #3B4455;\n",
              "      --fill-color: #D2E3FC;\n",
              "      --hover-bg-color: #434B5C;\n",
              "      --hover-fill-color: #FFFFFF;\n",
              "      --disabled-bg-color: #3B4455;\n",
              "      --disabled-fill-color: #666;\n",
              "  }\n",
              "\n",
              "  .colab-df-quickchart {\n",
              "    background-color: var(--bg-color);\n",
              "    border: none;\n",
              "    border-radius: 50%;\n",
              "    cursor: pointer;\n",
              "    display: none;\n",
              "    fill: var(--fill-color);\n",
              "    height: 32px;\n",
              "    padding: 0;\n",
              "    width: 32px;\n",
              "  }\n",
              "\n",
              "  .colab-df-quickchart:hover {\n",
              "    background-color: var(--hover-bg-color);\n",
              "    box-shadow: 0 1px 2px rgba(60, 64, 67, 0.3), 0 1px 3px 1px rgba(60, 64, 67, 0.15);\n",
              "    fill: var(--button-hover-fill-color);\n",
              "  }\n",
              "\n",
              "  .colab-df-quickchart-complete:disabled,\n",
              "  .colab-df-quickchart-complete:disabled:hover {\n",
              "    background-color: var(--disabled-bg-color);\n",
              "    fill: var(--disabled-fill-color);\n",
              "    box-shadow: none;\n",
              "  }\n",
              "\n",
              "  .colab-df-spinner {\n",
              "    border: 2px solid var(--fill-color);\n",
              "    border-color: transparent;\n",
              "    border-bottom-color: var(--fill-color);\n",
              "    animation:\n",
              "      spin 1s steps(1) infinite;\n",
              "  }\n",
              "\n",
              "  @keyframes spin {\n",
              "    0% {\n",
              "      border-color: transparent;\n",
              "      border-bottom-color: var(--fill-color);\n",
              "      border-left-color: var(--fill-color);\n",
              "    }\n",
              "    20% {\n",
              "      border-color: transparent;\n",
              "      border-left-color: var(--fill-color);\n",
              "      border-top-color: var(--fill-color);\n",
              "    }\n",
              "    30% {\n",
              "      border-color: transparent;\n",
              "      border-left-color: var(--fill-color);\n",
              "      border-top-color: var(--fill-color);\n",
              "      border-right-color: var(--fill-color);\n",
              "    }\n",
              "    40% {\n",
              "      border-color: transparent;\n",
              "      border-right-color: var(--fill-color);\n",
              "      border-top-color: var(--fill-color);\n",
              "    }\n",
              "    60% {\n",
              "      border-color: transparent;\n",
              "      border-right-color: var(--fill-color);\n",
              "    }\n",
              "    80% {\n",
              "      border-color: transparent;\n",
              "      border-right-color: var(--fill-color);\n",
              "      border-bottom-color: var(--fill-color);\n",
              "    }\n",
              "    90% {\n",
              "      border-color: transparent;\n",
              "      border-bottom-color: var(--fill-color);\n",
              "    }\n",
              "  }\n",
              "</style>\n",
              "\n",
              "  <script>\n",
              "    async function quickchart(key) {\n",
              "      const quickchartButtonEl =\n",
              "        document.querySelector('#' + key + ' button');\n",
              "      quickchartButtonEl.disabled = true;  // To prevent multiple clicks.\n",
              "      quickchartButtonEl.classList.add('colab-df-spinner');\n",
              "      try {\n",
              "        const charts = await google.colab.kernel.invokeFunction(\n",
              "            'suggestCharts', [key], {});\n",
              "      } catch (error) {\n",
              "        console.error('Error during call to suggestCharts:', error);\n",
              "      }\n",
              "      quickchartButtonEl.classList.remove('colab-df-spinner');\n",
              "      quickchartButtonEl.classList.add('colab-df-quickchart-complete');\n",
              "    }\n",
              "    (() => {\n",
              "      let quickchartButtonEl =\n",
              "        document.querySelector('#df-da7d73f2-540b-4c00-a5ec-b3db6141712f button');\n",
              "      quickchartButtonEl.style.display =\n",
              "        google.colab.kernel.accessAllowed ? 'block' : 'none';\n",
              "    })();\n",
              "  </script>\n",
              "</div>\n",
              "    </div>\n",
              "  </div>\n"
            ]
          },
          "metadata": {},
          "execution_count": 2
        }
      ]
    },
    {
      "cell_type": "code",
      "source": [
        "\n",
        "data['Date']=pd.to_datetime(data['Date']);"
      ],
      "metadata": {
        "colab": {
          "base_uri": "https://localhost:8080/"
        },
        "id": "9fSYZoMgd0Pu",
        "outputId": "56096090-feb5-4996-ebd9-20760037229e"
      },
      "execution_count": 3,
      "outputs": [
        {
          "output_type": "stream",
          "name": "stderr",
          "text": [
            "<ipython-input-3-27d8df80ce9e>:1: UserWarning: Parsing dates in DD/MM/YYYY format when dayfirst=False (the default) was specified. This may lead to inconsistently parsed dates! Specify a format to ensure consistent parsing.\n",
            "  data['Date']=pd.to_datetime(data['Date']);\n"
          ]
        }
      ]
    },
    {
      "cell_type": "code",
      "source": [
        "\n",
        "df = data.loc[data[\"Date\"].dt.year==2020,:];\n",
        "df.describe()\n"
      ],
      "metadata": {
        "colab": {
          "base_uri": "https://localhost:8080/",
          "height": 317
        },
        "id": "iGzt50DSd0Sf",
        "outputId": "8d0f3e1b-0218-4c28-d6a9-e47d574e3ee2"
      },
      "execution_count": 4,
      "outputs": [
        {
          "output_type": "execute_result",
          "data": {
            "text/plain": [
              "        Prev Close         Open         High          Low         Last  \\\n",
              "count   230.000000   230.000000   230.000000   230.000000   230.000000   \n",
              "mean   1719.122391  1724.650217  1750.653043  1695.951957  1722.063913   \n",
              "std     375.712569   378.727660   376.589171   376.610897   375.639812   \n",
              "min     884.050000   916.200000   950.000000   875.650000   891.000000   \n",
              "25%    1445.100000  1453.762500  1472.712500  1430.112500  1446.500000   \n",
              "50%    1636.800000  1656.500000  1702.375000  1633.800000  1685.200000   \n",
              "75%    2086.575000  2090.800000  2121.750000  2061.887500  2092.000000   \n",
              "max    2324.550000  2325.000000  2369.350000  2310.550000  2324.900000   \n",
              "\n",
              "             Close         VWAP        Volume      Turnover        Trades  \\\n",
              "count   230.000000   230.000000  2.300000e+02  2.300000e+02  2.300000e+02   \n",
              "mean   1720.930000  1723.406565  1.844649e+07  3.172958e+15  4.054413e+05   \n",
              "std     375.721744   377.008872  1.093071e+07  2.070710e+15  2.183448e+05   \n",
              "min     884.050000   899.320000  2.411900e+06  4.838160e+14  9.948400e+04   \n",
              "25%    1445.100000  1452.515000  1.145554e+07  1.880250e+15  2.658772e+05   \n",
              "50%    1680.000000  1677.250000  1.568513e+07  2.720000e+15  3.490370e+05   \n",
              "75%    2086.575000  2091.435000  2.275622e+07  3.714092e+15  5.020468e+05   \n",
              "max    2324.550000  2339.460000  6.523089e+07  1.473430e+16  1.428490e+06   \n",
              "\n",
              "       Deliverable Volume  %Deliverble  \n",
              "count        2.300000e+02   230.000000  \n",
              "mean         5.665088e+06     0.329247  \n",
              "std          3.242581e+06     0.117424  \n",
              "min          6.214850e+05     0.114800  \n",
              "25%          3.241737e+06     0.238400  \n",
              "50%          5.036454e+06     0.307200  \n",
              "75%          7.181379e+06     0.407800  \n",
              "max          1.919505e+07     0.656700  "
            ],
            "text/html": [
              "\n",
              "  <div id=\"df-30c9d517-d568-4add-9dfd-445187068677\" class=\"colab-df-container\">\n",
              "    <div>\n",
              "<style scoped>\n",
              "    .dataframe tbody tr th:only-of-type {\n",
              "        vertical-align: middle;\n",
              "    }\n",
              "\n",
              "    .dataframe tbody tr th {\n",
              "        vertical-align: top;\n",
              "    }\n",
              "\n",
              "    .dataframe thead th {\n",
              "        text-align: right;\n",
              "    }\n",
              "</style>\n",
              "<table border=\"1\" class=\"dataframe\">\n",
              "  <thead>\n",
              "    <tr style=\"text-align: right;\">\n",
              "      <th></th>\n",
              "      <th>Prev Close</th>\n",
              "      <th>Open</th>\n",
              "      <th>High</th>\n",
              "      <th>Low</th>\n",
              "      <th>Last</th>\n",
              "      <th>Close</th>\n",
              "      <th>VWAP</th>\n",
              "      <th>Volume</th>\n",
              "      <th>Turnover</th>\n",
              "      <th>Trades</th>\n",
              "      <th>Deliverable Volume</th>\n",
              "      <th>%Deliverble</th>\n",
              "    </tr>\n",
              "  </thead>\n",
              "  <tbody>\n",
              "    <tr>\n",
              "      <th>count</th>\n",
              "      <td>230.000000</td>\n",
              "      <td>230.000000</td>\n",
              "      <td>230.000000</td>\n",
              "      <td>230.000000</td>\n",
              "      <td>230.000000</td>\n",
              "      <td>230.000000</td>\n",
              "      <td>230.000000</td>\n",
              "      <td>2.300000e+02</td>\n",
              "      <td>2.300000e+02</td>\n",
              "      <td>2.300000e+02</td>\n",
              "      <td>2.300000e+02</td>\n",
              "      <td>230.000000</td>\n",
              "    </tr>\n",
              "    <tr>\n",
              "      <th>mean</th>\n",
              "      <td>1719.122391</td>\n",
              "      <td>1724.650217</td>\n",
              "      <td>1750.653043</td>\n",
              "      <td>1695.951957</td>\n",
              "      <td>1722.063913</td>\n",
              "      <td>1720.930000</td>\n",
              "      <td>1723.406565</td>\n",
              "      <td>1.844649e+07</td>\n",
              "      <td>3.172958e+15</td>\n",
              "      <td>4.054413e+05</td>\n",
              "      <td>5.665088e+06</td>\n",
              "      <td>0.329247</td>\n",
              "    </tr>\n",
              "    <tr>\n",
              "      <th>std</th>\n",
              "      <td>375.712569</td>\n",
              "      <td>378.727660</td>\n",
              "      <td>376.589171</td>\n",
              "      <td>376.610897</td>\n",
              "      <td>375.639812</td>\n",
              "      <td>375.721744</td>\n",
              "      <td>377.008872</td>\n",
              "      <td>1.093071e+07</td>\n",
              "      <td>2.070710e+15</td>\n",
              "      <td>2.183448e+05</td>\n",
              "      <td>3.242581e+06</td>\n",
              "      <td>0.117424</td>\n",
              "    </tr>\n",
              "    <tr>\n",
              "      <th>min</th>\n",
              "      <td>884.050000</td>\n",
              "      <td>916.200000</td>\n",
              "      <td>950.000000</td>\n",
              "      <td>875.650000</td>\n",
              "      <td>891.000000</td>\n",
              "      <td>884.050000</td>\n",
              "      <td>899.320000</td>\n",
              "      <td>2.411900e+06</td>\n",
              "      <td>4.838160e+14</td>\n",
              "      <td>9.948400e+04</td>\n",
              "      <td>6.214850e+05</td>\n",
              "      <td>0.114800</td>\n",
              "    </tr>\n",
              "    <tr>\n",
              "      <th>25%</th>\n",
              "      <td>1445.100000</td>\n",
              "      <td>1453.762500</td>\n",
              "      <td>1472.712500</td>\n",
              "      <td>1430.112500</td>\n",
              "      <td>1446.500000</td>\n",
              "      <td>1445.100000</td>\n",
              "      <td>1452.515000</td>\n",
              "      <td>1.145554e+07</td>\n",
              "      <td>1.880250e+15</td>\n",
              "      <td>2.658772e+05</td>\n",
              "      <td>3.241737e+06</td>\n",
              "      <td>0.238400</td>\n",
              "    </tr>\n",
              "    <tr>\n",
              "      <th>50%</th>\n",
              "      <td>1636.800000</td>\n",
              "      <td>1656.500000</td>\n",
              "      <td>1702.375000</td>\n",
              "      <td>1633.800000</td>\n",
              "      <td>1685.200000</td>\n",
              "      <td>1680.000000</td>\n",
              "      <td>1677.250000</td>\n",
              "      <td>1.568513e+07</td>\n",
              "      <td>2.720000e+15</td>\n",
              "      <td>3.490370e+05</td>\n",
              "      <td>5.036454e+06</td>\n",
              "      <td>0.307200</td>\n",
              "    </tr>\n",
              "    <tr>\n",
              "      <th>75%</th>\n",
              "      <td>2086.575000</td>\n",
              "      <td>2090.800000</td>\n",
              "      <td>2121.750000</td>\n",
              "      <td>2061.887500</td>\n",
              "      <td>2092.000000</td>\n",
              "      <td>2086.575000</td>\n",
              "      <td>2091.435000</td>\n",
              "      <td>2.275622e+07</td>\n",
              "      <td>3.714092e+15</td>\n",
              "      <td>5.020468e+05</td>\n",
              "      <td>7.181379e+06</td>\n",
              "      <td>0.407800</td>\n",
              "    </tr>\n",
              "    <tr>\n",
              "      <th>max</th>\n",
              "      <td>2324.550000</td>\n",
              "      <td>2325.000000</td>\n",
              "      <td>2369.350000</td>\n",
              "      <td>2310.550000</td>\n",
              "      <td>2324.900000</td>\n",
              "      <td>2324.550000</td>\n",
              "      <td>2339.460000</td>\n",
              "      <td>6.523089e+07</td>\n",
              "      <td>1.473430e+16</td>\n",
              "      <td>1.428490e+06</td>\n",
              "      <td>1.919505e+07</td>\n",
              "      <td>0.656700</td>\n",
              "    </tr>\n",
              "  </tbody>\n",
              "</table>\n",
              "</div>\n",
              "    <div class=\"colab-df-buttons\">\n",
              "\n",
              "  <div class=\"colab-df-container\">\n",
              "    <button class=\"colab-df-convert\" onclick=\"convertToInteractive('df-30c9d517-d568-4add-9dfd-445187068677')\"\n",
              "            title=\"Convert this dataframe to an interactive table.\"\n",
              "            style=\"display:none;\">\n",
              "\n",
              "  <svg xmlns=\"http://www.w3.org/2000/svg\" height=\"24px\" viewBox=\"0 -960 960 960\">\n",
              "    <path d=\"M120-120v-720h720v720H120Zm60-500h600v-160H180v160Zm220 220h160v-160H400v160Zm0 220h160v-160H400v160ZM180-400h160v-160H180v160Zm440 0h160v-160H620v160ZM180-180h160v-160H180v160Zm440 0h160v-160H620v160Z\"/>\n",
              "  </svg>\n",
              "    </button>\n",
              "\n",
              "  <style>\n",
              "    .colab-df-container {\n",
              "      display:flex;\n",
              "      gap: 12px;\n",
              "    }\n",
              "\n",
              "    .colab-df-convert {\n",
              "      background-color: #E8F0FE;\n",
              "      border: none;\n",
              "      border-radius: 50%;\n",
              "      cursor: pointer;\n",
              "      display: none;\n",
              "      fill: #1967D2;\n",
              "      height: 32px;\n",
              "      padding: 0 0 0 0;\n",
              "      width: 32px;\n",
              "    }\n",
              "\n",
              "    .colab-df-convert:hover {\n",
              "      background-color: #E2EBFA;\n",
              "      box-shadow: 0px 1px 2px rgba(60, 64, 67, 0.3), 0px 1px 3px 1px rgba(60, 64, 67, 0.15);\n",
              "      fill: #174EA6;\n",
              "    }\n",
              "\n",
              "    .colab-df-buttons div {\n",
              "      margin-bottom: 4px;\n",
              "    }\n",
              "\n",
              "    [theme=dark] .colab-df-convert {\n",
              "      background-color: #3B4455;\n",
              "      fill: #D2E3FC;\n",
              "    }\n",
              "\n",
              "    [theme=dark] .colab-df-convert:hover {\n",
              "      background-color: #434B5C;\n",
              "      box-shadow: 0px 1px 3px 1px rgba(0, 0, 0, 0.15);\n",
              "      filter: drop-shadow(0px 1px 2px rgba(0, 0, 0, 0.3));\n",
              "      fill: #FFFFFF;\n",
              "    }\n",
              "  </style>\n",
              "\n",
              "    <script>\n",
              "      const buttonEl =\n",
              "        document.querySelector('#df-30c9d517-d568-4add-9dfd-445187068677 button.colab-df-convert');\n",
              "      buttonEl.style.display =\n",
              "        google.colab.kernel.accessAllowed ? 'block' : 'none';\n",
              "\n",
              "      async function convertToInteractive(key) {\n",
              "        const element = document.querySelector('#df-30c9d517-d568-4add-9dfd-445187068677');\n",
              "        const dataTable =\n",
              "          await google.colab.kernel.invokeFunction('convertToInteractive',\n",
              "                                                    [key], {});\n",
              "        if (!dataTable) return;\n",
              "\n",
              "        const docLinkHtml = 'Like what you see? Visit the ' +\n",
              "          '<a target=\"_blank\" href=https://colab.research.google.com/notebooks/data_table.ipynb>data table notebook</a>'\n",
              "          + ' to learn more about interactive tables.';\n",
              "        element.innerHTML = '';\n",
              "        dataTable['output_type'] = 'display_data';\n",
              "        await google.colab.output.renderOutput(dataTable, element);\n",
              "        const docLink = document.createElement('div');\n",
              "        docLink.innerHTML = docLinkHtml;\n",
              "        element.appendChild(docLink);\n",
              "      }\n",
              "    </script>\n",
              "  </div>\n",
              "\n",
              "\n",
              "<div id=\"df-ae764da1-4f3a-4998-870b-781e612691c5\">\n",
              "  <button class=\"colab-df-quickchart\" onclick=\"quickchart('df-ae764da1-4f3a-4998-870b-781e612691c5')\"\n",
              "            title=\"Suggest charts\"\n",
              "            style=\"display:none;\">\n",
              "\n",
              "<svg xmlns=\"http://www.w3.org/2000/svg\" height=\"24px\"viewBox=\"0 0 24 24\"\n",
              "     width=\"24px\">\n",
              "    <g>\n",
              "        <path d=\"M19 3H5c-1.1 0-2 .9-2 2v14c0 1.1.9 2 2 2h14c1.1 0 2-.9 2-2V5c0-1.1-.9-2-2-2zM9 17H7v-7h2v7zm4 0h-2V7h2v10zm4 0h-2v-4h2v4z\"/>\n",
              "    </g>\n",
              "</svg>\n",
              "  </button>\n",
              "\n",
              "<style>\n",
              "  .colab-df-quickchart {\n",
              "      --bg-color: #E8F0FE;\n",
              "      --fill-color: #1967D2;\n",
              "      --hover-bg-color: #E2EBFA;\n",
              "      --hover-fill-color: #174EA6;\n",
              "      --disabled-fill-color: #AAA;\n",
              "      --disabled-bg-color: #DDD;\n",
              "  }\n",
              "\n",
              "  [theme=dark] .colab-df-quickchart {\n",
              "      --bg-color: #3B4455;\n",
              "      --fill-color: #D2E3FC;\n",
              "      --hover-bg-color: #434B5C;\n",
              "      --hover-fill-color: #FFFFFF;\n",
              "      --disabled-bg-color: #3B4455;\n",
              "      --disabled-fill-color: #666;\n",
              "  }\n",
              "\n",
              "  .colab-df-quickchart {\n",
              "    background-color: var(--bg-color);\n",
              "    border: none;\n",
              "    border-radius: 50%;\n",
              "    cursor: pointer;\n",
              "    display: none;\n",
              "    fill: var(--fill-color);\n",
              "    height: 32px;\n",
              "    padding: 0;\n",
              "    width: 32px;\n",
              "  }\n",
              "\n",
              "  .colab-df-quickchart:hover {\n",
              "    background-color: var(--hover-bg-color);\n",
              "    box-shadow: 0 1px 2px rgba(60, 64, 67, 0.3), 0 1px 3px 1px rgba(60, 64, 67, 0.15);\n",
              "    fill: var(--button-hover-fill-color);\n",
              "  }\n",
              "\n",
              "  .colab-df-quickchart-complete:disabled,\n",
              "  .colab-df-quickchart-complete:disabled:hover {\n",
              "    background-color: var(--disabled-bg-color);\n",
              "    fill: var(--disabled-fill-color);\n",
              "    box-shadow: none;\n",
              "  }\n",
              "\n",
              "  .colab-df-spinner {\n",
              "    border: 2px solid var(--fill-color);\n",
              "    border-color: transparent;\n",
              "    border-bottom-color: var(--fill-color);\n",
              "    animation:\n",
              "      spin 1s steps(1) infinite;\n",
              "  }\n",
              "\n",
              "  @keyframes spin {\n",
              "    0% {\n",
              "      border-color: transparent;\n",
              "      border-bottom-color: var(--fill-color);\n",
              "      border-left-color: var(--fill-color);\n",
              "    }\n",
              "    20% {\n",
              "      border-color: transparent;\n",
              "      border-left-color: var(--fill-color);\n",
              "      border-top-color: var(--fill-color);\n",
              "    }\n",
              "    30% {\n",
              "      border-color: transparent;\n",
              "      border-left-color: var(--fill-color);\n",
              "      border-top-color: var(--fill-color);\n",
              "      border-right-color: var(--fill-color);\n",
              "    }\n",
              "    40% {\n",
              "      border-color: transparent;\n",
              "      border-right-color: var(--fill-color);\n",
              "      border-top-color: var(--fill-color);\n",
              "    }\n",
              "    60% {\n",
              "      border-color: transparent;\n",
              "      border-right-color: var(--fill-color);\n",
              "    }\n",
              "    80% {\n",
              "      border-color: transparent;\n",
              "      border-right-color: var(--fill-color);\n",
              "      border-bottom-color: var(--fill-color);\n",
              "    }\n",
              "    90% {\n",
              "      border-color: transparent;\n",
              "      border-bottom-color: var(--fill-color);\n",
              "    }\n",
              "  }\n",
              "</style>\n",
              "\n",
              "  <script>\n",
              "    async function quickchart(key) {\n",
              "      const quickchartButtonEl =\n",
              "        document.querySelector('#' + key + ' button');\n",
              "      quickchartButtonEl.disabled = true;  // To prevent multiple clicks.\n",
              "      quickchartButtonEl.classList.add('colab-df-spinner');\n",
              "      try {\n",
              "        const charts = await google.colab.kernel.invokeFunction(\n",
              "            'suggestCharts', [key], {});\n",
              "      } catch (error) {\n",
              "        console.error('Error during call to suggestCharts:', error);\n",
              "      }\n",
              "      quickchartButtonEl.classList.remove('colab-df-spinner');\n",
              "      quickchartButtonEl.classList.add('colab-df-quickchart-complete');\n",
              "    }\n",
              "    (() => {\n",
              "      let quickchartButtonEl =\n",
              "        document.querySelector('#df-ae764da1-4f3a-4998-870b-781e612691c5 button');\n",
              "      quickchartButtonEl.style.display =\n",
              "        google.colab.kernel.accessAllowed ? 'block' : 'none';\n",
              "    })();\n",
              "  </script>\n",
              "</div>\n",
              "    </div>\n",
              "  </div>\n"
            ]
          },
          "metadata": {},
          "execution_count": 4
        }
      ]
    },
    {
      "cell_type": "code",
      "source": [
        "candlestick = go.Candlestick( x=df.index,open=df['Open'],high=df['High'],low=df['Low'],close=df['Close'])\n",
        "\n",
        "fig = go.Figure(data=[candlestick])\n",
        "\n",
        "fig.update_layout(\n",
        "    width=1100, height=600,\n",
        "    title=\"Reliance, 2020\",\n",
        "    yaxis_title='Price')\n",
        "\n",
        "fig.show()"
      ],
      "metadata": {
        "colab": {
          "base_uri": "https://localhost:8080/",
          "height": 617
        },
        "id": "-8wysuHSd0VV",
        "outputId": "a99b98af-8673-4fe5-9e42-59b38e095d95"
      },
      "execution_count": 5,
      "outputs": [
        {
          "output_type": "display_data",
          "data": {
            "text/html": [
              "<html>\n",
              "<head><meta charset=\"utf-8\" /></head>\n",
              "<body>\n",
              "    <div>            <script src=\"https://cdnjs.cloudflare.com/ajax/libs/mathjax/2.7.5/MathJax.js?config=TeX-AMS-MML_SVG\"></script><script type=\"text/javascript\">if (window.MathJax && window.MathJax.Hub && window.MathJax.Hub.Config) {window.MathJax.Hub.Config({SVG: {font: \"STIX-Web\"}});}</script>                <script type=\"text/javascript\">window.PlotlyConfig = {MathJaxConfig: 'local'};</script>\n",
              "        <script charset=\"utf-8\" src=\"https://cdn.plot.ly/plotly-2.24.1.min.js\"></script>                <div id=\"fc7de95a-bd2d-413d-9414-c30fa9b63e3c\" class=\"plotly-graph-div\" style=\"height:600px; width:1100px;\"></div>            <script type=\"text/javascript\">                                    window.PLOTLYENV=window.PLOTLYENV || {};                                    if (document.getElementById(\"fc7de95a-bd2d-413d-9414-c30fa9b63e3c\")) {                    Plotly.newPlot(                        \"fc7de95a-bd2d-413d-9414-c30fa9b63e3c\",                        [{\"close\":[1509.6,1535.3,1537.15,1501.5,1524.6,1513.15,1548.0,1547.65,1543.7,1529.4,1523.85,1537.9,1581.0,1532.35,1533.9,1533.35,1526.85,1521.55,1506.55,1471.75,1479.85,1443.75,1411.65,1383.35,1385.5,1426.4,1448.5,1457.8,1433.65,1435.6,1452.75,1470.3,1474.15,1487.6,1478.25,1467.4,1503.8,1485.95,1444.95,1416.4,1392.0,1386.25,1328.65,1316.15,1342.85,1339.7,1311.15,1271.0,1114.15,1153.55,1063.0,1105.3,1015.7,1008.0,968.5,917.7,1017.95,884.05,943.4,1082.25,1066.2,1065.6,1030.45,1113.75,1080.45,1077.45,1206.1,1192.15,1219.95,1189.15,1149.85,1168.05,1224.0,1243.8,1237.35,1363.6,1370.9,1417.0,1429.75,1428.15,1426.95,1466.0,1435.2,1460.65,1460.75,1506.95,1561.8,1576.8,1479.25,1496.45,1435.95,1459.4,1440.75,1408.9,1433.7,1441.25,1431.55,1424.05,1445.55,1472.25,1464.4,1520.35,1535.7,1541.65,1579.8,1581.7,1569.5,1537.15,1572.15,1537.7,1588.8,1614.55,1617.7,1615.35,1655.9,1759.4,1746.15,1720.9,1727.85,1717.9,1741.65,1723.15,1704.1,1737.6,1760.35,1787.9,1851.8,1823.45,1798.0,1824.25,1878.05,1935.0,1917.0,1844.0,1843.4,1911.7,1919.9,1971.55,2004.0,2057.8,2146.15,2156.2,2177.7,2096.65,2108.85,2067.1,2009.0,2150.6,2126.45,2134.1,2146.45,2119.85,2133.8,2127.6,2122.05,2113.8,2091.35,2118.55,2131.55,2097.05,2081.85,2095.75,2082.1,2137.3,2110.6,2116.15,2080.7,2087.25,2128.2,2112.1,2077.25,2082.65,2107.1,2161.35,2314.0,2319.75,2302.55,2318.85,2324.55,2298.75,2305.7,2255.85,2211.15,2230.8,2181.2,2201.7,2216.25,2245.05,2234.35,2225.25,2212.2,2210.35,2257.5,2239.25,2233.45,2237.05,2280.7,2287.5,2206.5,2175.8,2176.2,2155.9,2124.6,2106.95,2113.05,2029.1,2034.5,2011.45,2026.9,2054.5,1877.45,1850.4,1913.2,1955.0,2029.15,2050.7,2084.55,1997.2,1980.0,1996.4,2002.3,1993.25,1987.2,1973.15,1899.5,1950.7,1964.05,1947.8,1952.6,1929.8],\"high\":[1527.1,1540.95,1541.65,1527.9,1534.5,1534.45,1550.0,1557.95,1558.7,1550.0,1539.9,1543.35,1584.95,1609.0,1545.85,1546.75,1541.95,1536.35,1524.45,1510.0,1494.4,1479.7,1453.25,1426.95,1399.95,1432.5,1452.8,1467.0,1452.35,1445.5,1466.2,1474.85,1477.75,1501.45,1506.15,1475.9,1506.45,1508.0,1477.0,1451.4,1412.35,1393.8,1357.0,1369.0,1353.9,1353.8,1357.95,1288.15,1241.0,1178.45,1101.0,1140.0,1079.7,1060.0,1035.9,967.0,1034.9,950.0,970.0,1151.55,1116.9,1107.3,1074.8,1129.8,1124.6,1134.45,1214.0,1229.0,1232.8,1215.0,1236.0,1187.45,1230.0,1257.0,1252.0,1384.9,1385.85,1494.95,1475.0,1455.45,1453.65,1494.95,1465.0,1479.0,1484.95,1513.65,1579.9,1615.0,1568.35,1527.0,1496.7,1466.7,1482.0,1461.7,1446.85,1461.45,1458.0,1449.7,1454.0,1479.75,1472.0,1538.35,1540.0,1560.0,1589.5,1618.0,1618.4,1583.0,1579.55,1567.95,1593.0,1626.95,1648.55,1635.45,1665.0,1788.8,1804.2,1763.75,1772.7,1749.0,1752.0,1739.75,1741.0,1749.0,1767.6,1793.0,1858.0,1864.35,1834.95,1835.0,1884.6,1947.7,1941.7,1978.8,1869.0,1920.0,1932.0,1977.0,2010.0,2079.7,2163.0,2198.8,2194.0,2182.8,2139.7,2129.0,2057.0,2167.0,2196.0,2167.7,2157.8,2165.0,2160.0,2145.0,2138.9,2157.0,2105.0,2134.3,2154.0,2123.9,2122.0,2104.5,2111.3,2147.95,2150.0,2132.9,2174.0,2122.4,2138.0,2138.75,2096.95,2105.75,2121.0,2167.8,2344.95,2337.85,2360.0,2325.75,2369.35,2333.7,2319.45,2336.0,2277.0,2276.75,2226.0,2212.8,2238.0,2264.0,2267.0,2263.8,2249.15,2233.9,2309.0,2268.0,2253.0,2255.75,2285.75,2304.0,2290.0,2232.5,2228.7,2193.0,2192.0,2132.5,2135.0,2101.95,2059.85,2057.7,2042.0,2065.1,2027.0,1909.0,1929.0,1960.95,2040.0,2069.0,2090.0,2095.0,2008.45,2036.65,2015.3,2085.0,2006.5,2010.45,1983.8,1970.0,1974.0,1992.95,1965.0,1956.1],\"low\":[1505.5,1512.0,1523.0,1498.0,1513.5,1510.0,1531.25,1539.65,1538.4,1521.85,1518.25,1528.0,1553.2,1526.4,1522.0,1531.1,1520.7,1518.55,1505.0,1463.6,1464.05,1440.0,1407.2,1371.1,1363.05,1397.8,1430.3,1440.1,1428.3,1410.45,1445.05,1455.0,1462.6,1453.1,1474.3,1457.4,1475.1,1483.8,1439.55,1410.0,1387.35,1369.0,1325.0,1301.1,1322.0,1307.9,1306.0,1241.1,1095.0,1108.0,1048.7,942.4,1005.0,1003.2,961.0,892.2,930.0,875.65,895.8,963.25,1042.35,1046.2,1020.0,1048.0,1045.2,1056.3,1100.0,1160.0,1193.0,1180.0,1143.0,1145.0,1192.65,1202.0,1164.0,1300.0,1353.3,1347.2,1423.0,1392.15,1420.0,1438.05,1417.45,1447.2,1445.5,1445.0,1537.1,1572.3,1465.0,1454.0,1430.05,1415.1,1428.0,1403.25,1393.0,1425.0,1426.5,1416.3,1412.0,1449.0,1452.65,1475.95,1520.8,1533.35,1541.0,1573.7,1565.0,1533.0,1540.05,1531.0,1497.0,1561.1,1585.3,1602.1,1605.6,1662.0,1735.0,1716.1,1711.7,1713.05,1717.0,1715.55,1695.55,1708.05,1735.05,1768.0,1792.1,1806.3,1790.0,1786.25,1824.25,1900.0,1887.3,1798.0,1812.45,1838.0,1899.65,1936.5,1960.7,1991.35,2057.8,2127.9,2150.65,2070.45,2072.0,2052.8,2003.1,2000.25,2118.3,2107.8,2120.2,2108.1,2100.35,2106.8,2110.0,2089.25,2070.1,2082.35,2121.35,2088.0,2077.0,2070.5,2078.0,2047.0,2103.25,2106.25,2060.35,2062.4,2085.0,2103.0,2072.2,2044.25,2080.5,2081.45,2175.35,2287.1,2282.0,2288.15,2310.55,2291.85,2276.55,2247.35,2201.55,2205.3,2176.05,2167.3,2207.05,2216.25,2225.0,2214.0,2206.0,2201.65,2220.0,2222.1,2217.1,2226.25,2225.85,2268.5,2195.0,2172.65,2155.15,2152.25,2097.75,2091.0,2096.4,2018.5,2005.0,2007.4,1991.0,2021.8,1859.15,1835.1,1837.0,1932.0,1978.15,2036.0,2041.2,1978.1,1965.0,1981.75,1995.35,1985.0,1960.1,1968.2,1895.0,1926.25,1932.0,1942.2,1930.05,1921.4],\"open\":[1518.0,1512.0,1533.0,1520.0,1519.0,1515.0,1538.6,1551.9,1545.05,1540.0,1535.85,1529.0,1553.5,1609.0,1528.6,1544.0,1536.5,1527.0,1514.9,1508.6,1474.05,1479.0,1453.0,1405.3,1369.9,1400.0,1434.9,1454.1,1451.0,1428.0,1447.4,1456.15,1477.75,1477.25,1489.0,1475.9,1479.35,1497.0,1469.75,1451.4,1410.0,1388.0,1354.9,1355.1,1329.7,1352.0,1352.2,1270.0,1240.05,1108.0,1085.0,998.0,1060.55,1047.25,1025.3,920.1,939.5,916.2,930.0,963.8,1095.8,1095.0,1040.6,1073.95,1122.25,1134.45,1102.1,1180.0,1214.0,1203.95,1197.05,1149.85,1216.0,1226.0,1210.0,1320.0,1367.35,1350.15,1434.0,1450.0,1444.9,1453.95,1440.0,1453.7,1464.0,1455.0,1545.0,1580.0,1564.8,1527.0,1469.0,1444.0,1470.0,1457.0,1410.0,1435.0,1451.8,1448.15,1431.0,1455.0,1468.0,1480.0,1526.0,1545.0,1544.0,1595.0,1618.4,1560.3,1543.1,1566.0,1500.0,1565.0,1643.0,1608.25,1607.0,1670.0,1773.4,1750.0,1735.9,1727.0,1728.8,1728.05,1737.0,1720.0,1743.0,1779.8,1805.0,1860.0,1824.05,1809.0,1828.5,1903.35,1934.0,1937.95,1847.0,1845.0,1917.8,1939.0,1983.0,2003.95,2058.0,2178.8,2156.2,2177.9,2099.0,2114.5,2051.3,2020.6,2169.0,2157.0,2129.8,2159.1,2134.8,2121.0,2128.0,2122.55,2105.0,2085.0,2141.0,2120.0,2118.0,2091.4,2106.0,2085.0,2148.0,2120.0,2174.0,2100.0,2092.0,2128.0,2083.55,2084.0,2092.0,2085.0,2183.1,2312.0,2325.0,2311.95,2320.0,2320.0,2314.25,2300.0,2277.0,2260.0,2207.9,2189.0,2227.0,2225.0,2260.0,2263.8,2244.0,2225.25,2235.0,2259.0,2235.0,2235.0,2230.6,2278.9,2290.0,2215.0,2190.05,2179.0,2168.0,2127.4,2106.0,2101.95,2034.9,2041.8,1997.0,2033.5,2027.0,1890.0,1837.0,1954.95,1990.0,2062.1,2077.0,2089.0,1981.0,1982.0,2014.9,2085.0,1993.25,1987.2,1975.0,1951.0,1964.0,1980.0,1953.05,1940.5],\"x\":[5975,5976,5977,5978,5979,5980,5981,5982,5983,5984,5985,5986,5987,5988,5989,5990,5991,5992,5993,5994,5995,5996,5997,5998,5999,6000,6001,6002,6003,6004,6005,6006,6007,6008,6009,6010,6011,6012,6013,6014,6015,6016,6017,6018,6019,6020,6021,6022,6023,6024,6025,6026,6027,6028,6029,6030,6031,6032,6033,6034,6035,6036,6037,6038,6039,6040,6041,6042,6043,6044,6045,6046,6047,6048,6049,6050,6051,6052,6053,6054,6055,6056,6057,6058,6059,6060,6061,6062,6063,6064,6065,6066,6067,6068,6069,6070,6071,6072,6073,6074,6075,6076,6077,6078,6079,6080,6081,6082,6083,6084,6085,6086,6087,6088,6089,6090,6091,6092,6093,6094,6095,6096,6097,6098,6099,6100,6101,6102,6103,6104,6105,6106,6107,6108,6109,6110,6111,6112,6113,6114,6115,6116,6117,6118,6119,6120,6121,6122,6123,6124,6125,6126,6127,6128,6129,6130,6131,6132,6133,6134,6135,6136,6137,6138,6139,6140,6141,6142,6143,6144,6145,6146,6147,6148,6149,6150,6151,6152,6153,6154,6155,6156,6157,6158,6159,6160,6161,6162,6163,6164,6165,6166,6167,6168,6169,6170,6171,6172,6173,6174,6175,6176,6177,6178,6179,6180,6181,6182,6183,6184,6185,6186,6187,6188,6189,6190,6191,6192,6193,6194,6195,6196,6197,6198,6199,6200,6201,6202,6203,6204],\"type\":\"candlestick\"}],                        {\"template\":{\"data\":{\"histogram2dcontour\":[{\"type\":\"histogram2dcontour\",\"colorbar\":{\"outlinewidth\":0,\"ticks\":\"\"},\"colorscale\":[[0.0,\"#0d0887\"],[0.1111111111111111,\"#46039f\"],[0.2222222222222222,\"#7201a8\"],[0.3333333333333333,\"#9c179e\"],[0.4444444444444444,\"#bd3786\"],[0.5555555555555556,\"#d8576b\"],[0.6666666666666666,\"#ed7953\"],[0.7777777777777778,\"#fb9f3a\"],[0.8888888888888888,\"#fdca26\"],[1.0,\"#f0f921\"]]}],\"choropleth\":[{\"type\":\"choropleth\",\"colorbar\":{\"outlinewidth\":0,\"ticks\":\"\"}}],\"histogram2d\":[{\"type\":\"histogram2d\",\"colorbar\":{\"outlinewidth\":0,\"ticks\":\"\"},\"colorscale\":[[0.0,\"#0d0887\"],[0.1111111111111111,\"#46039f\"],[0.2222222222222222,\"#7201a8\"],[0.3333333333333333,\"#9c179e\"],[0.4444444444444444,\"#bd3786\"],[0.5555555555555556,\"#d8576b\"],[0.6666666666666666,\"#ed7953\"],[0.7777777777777778,\"#fb9f3a\"],[0.8888888888888888,\"#fdca26\"],[1.0,\"#f0f921\"]]}],\"heatmap\":[{\"type\":\"heatmap\",\"colorbar\":{\"outlinewidth\":0,\"ticks\":\"\"},\"colorscale\":[[0.0,\"#0d0887\"],[0.1111111111111111,\"#46039f\"],[0.2222222222222222,\"#7201a8\"],[0.3333333333333333,\"#9c179e\"],[0.4444444444444444,\"#bd3786\"],[0.5555555555555556,\"#d8576b\"],[0.6666666666666666,\"#ed7953\"],[0.7777777777777778,\"#fb9f3a\"],[0.8888888888888888,\"#fdca26\"],[1.0,\"#f0f921\"]]}],\"heatmapgl\":[{\"type\":\"heatmapgl\",\"colorbar\":{\"outlinewidth\":0,\"ticks\":\"\"},\"colorscale\":[[0.0,\"#0d0887\"],[0.1111111111111111,\"#46039f\"],[0.2222222222222222,\"#7201a8\"],[0.3333333333333333,\"#9c179e\"],[0.4444444444444444,\"#bd3786\"],[0.5555555555555556,\"#d8576b\"],[0.6666666666666666,\"#ed7953\"],[0.7777777777777778,\"#fb9f3a\"],[0.8888888888888888,\"#fdca26\"],[1.0,\"#f0f921\"]]}],\"contourcarpet\":[{\"type\":\"contourcarpet\",\"colorbar\":{\"outlinewidth\":0,\"ticks\":\"\"}}],\"contour\":[{\"type\":\"contour\",\"colorbar\":{\"outlinewidth\":0,\"ticks\":\"\"},\"colorscale\":[[0.0,\"#0d0887\"],[0.1111111111111111,\"#46039f\"],[0.2222222222222222,\"#7201a8\"],[0.3333333333333333,\"#9c179e\"],[0.4444444444444444,\"#bd3786\"],[0.5555555555555556,\"#d8576b\"],[0.6666666666666666,\"#ed7953\"],[0.7777777777777778,\"#fb9f3a\"],[0.8888888888888888,\"#fdca26\"],[1.0,\"#f0f921\"]]}],\"surface\":[{\"type\":\"surface\",\"colorbar\":{\"outlinewidth\":0,\"ticks\":\"\"},\"colorscale\":[[0.0,\"#0d0887\"],[0.1111111111111111,\"#46039f\"],[0.2222222222222222,\"#7201a8\"],[0.3333333333333333,\"#9c179e\"],[0.4444444444444444,\"#bd3786\"],[0.5555555555555556,\"#d8576b\"],[0.6666666666666666,\"#ed7953\"],[0.7777777777777778,\"#fb9f3a\"],[0.8888888888888888,\"#fdca26\"],[1.0,\"#f0f921\"]]}],\"mesh3d\":[{\"type\":\"mesh3d\",\"colorbar\":{\"outlinewidth\":0,\"ticks\":\"\"}}],\"scatter\":[{\"fillpattern\":{\"fillmode\":\"overlay\",\"size\":10,\"solidity\":0.2},\"type\":\"scatter\"}],\"parcoords\":[{\"type\":\"parcoords\",\"line\":{\"colorbar\":{\"outlinewidth\":0,\"ticks\":\"\"}}}],\"scatterpolargl\":[{\"type\":\"scatterpolargl\",\"marker\":{\"colorbar\":{\"outlinewidth\":0,\"ticks\":\"\"}}}],\"bar\":[{\"error_x\":{\"color\":\"#2a3f5f\"},\"error_y\":{\"color\":\"#2a3f5f\"},\"marker\":{\"line\":{\"color\":\"#E5ECF6\",\"width\":0.5},\"pattern\":{\"fillmode\":\"overlay\",\"size\":10,\"solidity\":0.2}},\"type\":\"bar\"}],\"scattergeo\":[{\"type\":\"scattergeo\",\"marker\":{\"colorbar\":{\"outlinewidth\":0,\"ticks\":\"\"}}}],\"scatterpolar\":[{\"type\":\"scatterpolar\",\"marker\":{\"colorbar\":{\"outlinewidth\":0,\"ticks\":\"\"}}}],\"histogram\":[{\"marker\":{\"pattern\":{\"fillmode\":\"overlay\",\"size\":10,\"solidity\":0.2}},\"type\":\"histogram\"}],\"scattergl\":[{\"type\":\"scattergl\",\"marker\":{\"colorbar\":{\"outlinewidth\":0,\"ticks\":\"\"}}}],\"scatter3d\":[{\"type\":\"scatter3d\",\"line\":{\"colorbar\":{\"outlinewidth\":0,\"ticks\":\"\"}},\"marker\":{\"colorbar\":{\"outlinewidth\":0,\"ticks\":\"\"}}}],\"scattermapbox\":[{\"type\":\"scattermapbox\",\"marker\":{\"colorbar\":{\"outlinewidth\":0,\"ticks\":\"\"}}}],\"scatterternary\":[{\"type\":\"scatterternary\",\"marker\":{\"colorbar\":{\"outlinewidth\":0,\"ticks\":\"\"}}}],\"scattercarpet\":[{\"type\":\"scattercarpet\",\"marker\":{\"colorbar\":{\"outlinewidth\":0,\"ticks\":\"\"}}}],\"carpet\":[{\"aaxis\":{\"endlinecolor\":\"#2a3f5f\",\"gridcolor\":\"white\",\"linecolor\":\"white\",\"minorgridcolor\":\"white\",\"startlinecolor\":\"#2a3f5f\"},\"baxis\":{\"endlinecolor\":\"#2a3f5f\",\"gridcolor\":\"white\",\"linecolor\":\"white\",\"minorgridcolor\":\"white\",\"startlinecolor\":\"#2a3f5f\"},\"type\":\"carpet\"}],\"table\":[{\"cells\":{\"fill\":{\"color\":\"#EBF0F8\"},\"line\":{\"color\":\"white\"}},\"header\":{\"fill\":{\"color\":\"#C8D4E3\"},\"line\":{\"color\":\"white\"}},\"type\":\"table\"}],\"barpolar\":[{\"marker\":{\"line\":{\"color\":\"#E5ECF6\",\"width\":0.5},\"pattern\":{\"fillmode\":\"overlay\",\"size\":10,\"solidity\":0.2}},\"type\":\"barpolar\"}],\"pie\":[{\"automargin\":true,\"type\":\"pie\"}]},\"layout\":{\"autotypenumbers\":\"strict\",\"colorway\":[\"#636efa\",\"#EF553B\",\"#00cc96\",\"#ab63fa\",\"#FFA15A\",\"#19d3f3\",\"#FF6692\",\"#B6E880\",\"#FF97FF\",\"#FECB52\"],\"font\":{\"color\":\"#2a3f5f\"},\"hovermode\":\"closest\",\"hoverlabel\":{\"align\":\"left\"},\"paper_bgcolor\":\"white\",\"plot_bgcolor\":\"#E5ECF6\",\"polar\":{\"bgcolor\":\"#E5ECF6\",\"angularaxis\":{\"gridcolor\":\"white\",\"linecolor\":\"white\",\"ticks\":\"\"},\"radialaxis\":{\"gridcolor\":\"white\",\"linecolor\":\"white\",\"ticks\":\"\"}},\"ternary\":{\"bgcolor\":\"#E5ECF6\",\"aaxis\":{\"gridcolor\":\"white\",\"linecolor\":\"white\",\"ticks\":\"\"},\"baxis\":{\"gridcolor\":\"white\",\"linecolor\":\"white\",\"ticks\":\"\"},\"caxis\":{\"gridcolor\":\"white\",\"linecolor\":\"white\",\"ticks\":\"\"}},\"coloraxis\":{\"colorbar\":{\"outlinewidth\":0,\"ticks\":\"\"}},\"colorscale\":{\"sequential\":[[0.0,\"#0d0887\"],[0.1111111111111111,\"#46039f\"],[0.2222222222222222,\"#7201a8\"],[0.3333333333333333,\"#9c179e\"],[0.4444444444444444,\"#bd3786\"],[0.5555555555555556,\"#d8576b\"],[0.6666666666666666,\"#ed7953\"],[0.7777777777777778,\"#fb9f3a\"],[0.8888888888888888,\"#fdca26\"],[1.0,\"#f0f921\"]],\"sequentialminus\":[[0.0,\"#0d0887\"],[0.1111111111111111,\"#46039f\"],[0.2222222222222222,\"#7201a8\"],[0.3333333333333333,\"#9c179e\"],[0.4444444444444444,\"#bd3786\"],[0.5555555555555556,\"#d8576b\"],[0.6666666666666666,\"#ed7953\"],[0.7777777777777778,\"#fb9f3a\"],[0.8888888888888888,\"#fdca26\"],[1.0,\"#f0f921\"]],\"diverging\":[[0,\"#8e0152\"],[0.1,\"#c51b7d\"],[0.2,\"#de77ae\"],[0.3,\"#f1b6da\"],[0.4,\"#fde0ef\"],[0.5,\"#f7f7f7\"],[0.6,\"#e6f5d0\"],[0.7,\"#b8e186\"],[0.8,\"#7fbc41\"],[0.9,\"#4d9221\"],[1,\"#276419\"]]},\"xaxis\":{\"gridcolor\":\"white\",\"linecolor\":\"white\",\"ticks\":\"\",\"title\":{\"standoff\":15},\"zerolinecolor\":\"white\",\"automargin\":true,\"zerolinewidth\":2},\"yaxis\":{\"gridcolor\":\"white\",\"linecolor\":\"white\",\"ticks\":\"\",\"title\":{\"standoff\":15},\"zerolinecolor\":\"white\",\"automargin\":true,\"zerolinewidth\":2},\"scene\":{\"xaxis\":{\"backgroundcolor\":\"#E5ECF6\",\"gridcolor\":\"white\",\"linecolor\":\"white\",\"showbackground\":true,\"ticks\":\"\",\"zerolinecolor\":\"white\",\"gridwidth\":2},\"yaxis\":{\"backgroundcolor\":\"#E5ECF6\",\"gridcolor\":\"white\",\"linecolor\":\"white\",\"showbackground\":true,\"ticks\":\"\",\"zerolinecolor\":\"white\",\"gridwidth\":2},\"zaxis\":{\"backgroundcolor\":\"#E5ECF6\",\"gridcolor\":\"white\",\"linecolor\":\"white\",\"showbackground\":true,\"ticks\":\"\",\"zerolinecolor\":\"white\",\"gridwidth\":2}},\"shapedefaults\":{\"line\":{\"color\":\"#2a3f5f\"}},\"annotationdefaults\":{\"arrowcolor\":\"#2a3f5f\",\"arrowhead\":0,\"arrowwidth\":1},\"geo\":{\"bgcolor\":\"white\",\"landcolor\":\"#E5ECF6\",\"subunitcolor\":\"white\",\"showland\":true,\"showlakes\":true,\"lakecolor\":\"white\"},\"title\":{\"x\":0.05},\"mapbox\":{\"style\":\"light\"}}},\"width\":1100,\"height\":600,\"title\":{\"text\":\"Reliance, 2020\"},\"yaxis\":{\"title\":{\"text\":\"Price\"}}},                        {\"responsive\": true}                    ).then(function(){\n",
              "                            \n",
              "var gd = document.getElementById('fc7de95a-bd2d-413d-9414-c30fa9b63e3c');\n",
              "var x = new MutationObserver(function (mutations, observer) {{\n",
              "        var display = window.getComputedStyle(gd).display;\n",
              "        if (!display || display === 'none') {{\n",
              "            console.log([gd, 'removed!']);\n",
              "            Plotly.purge(gd);\n",
              "            observer.disconnect();\n",
              "        }}\n",
              "}});\n",
              "\n",
              "// Listen for the removal of the full notebook cells\n",
              "var notebookContainer = gd.closest('#notebook-container');\n",
              "if (notebookContainer) {{\n",
              "    x.observe(notebookContainer, {childList: true});\n",
              "}}\n",
              "\n",
              "// Listen for the clearing of the current output cell\n",
              "var outputEl = gd.closest('.output');\n",
              "if (outputEl) {{\n",
              "    x.observe(outputEl, {childList: true});\n",
              "}}\n",
              "\n",
              "                        })                };                            </script>        </div>\n",
              "</body>\n",
              "</html>"
            ]
          },
          "metadata": {}
        }
      ]
    },
    {
      "cell_type": "code",
      "source": [
        "plt.figure(figsize=(16,4));\n",
        "plt.title('close price',fontsize=14);\n",
        "plt.plot(data.Close);\n",
        "plt.xlabel('time',fontsize=14);\n",
        "plt.ylabel('price',fontsize=14);"
      ],
      "metadata": {
        "colab": {
          "base_uri": "https://localhost:8080/",
          "height": 403
        },
        "id": "xifY3VfXd0X6",
        "outputId": "9bdc4c61-6b32-4b8c-b112-7bc35243e18e"
      },
      "execution_count": 6,
      "outputs": [
        {
          "output_type": "display_data",
          "data": {
            "text/plain": [
              "<Figure size 1600x400 with 1 Axes>"
            ],
            "image/png": "[encoded data removed]"
          },
          "metadata": {}
        }
      ]
    },
    {
      "cell_type": "code",
      "source": [
        "fig1, ax = plt.subplots(1,1,figsize=(9,4),dpi=100)\n",
        "sns.countplot(data=data,ax=ax)\n",
        "ax.tick_params(axis='x', rotation=90)"
      ],
      "metadata": {
        "colab": {
          "base_uri": "https://localhost:8080/",
          "height": 489
        },
        "id": "nlfg2ZHxd0am",
        "outputId": "a7ef7b73-52ed-4c85-cc3a-e141cdb4565e"
      },
      "execution_count": 7,
      "outputs": [
        {
          "output_type": "display_data",
          "data": {
            "text/plain": [
              "<Figure size 900x400 with 1 Axes>"
            ],
            "image/png": "[encoded data removed]"
          },
          "metadata": {}
        }
      ]
    },
    {
      "cell_type": "code",
      "source": [
        "\n",
        "data.columns"
      ],
      "metadata": {
        "colab": {
          "base_uri": "https://localhost:8080/"
        },
        "id": "tRgRSWACd0dY",
        "outputId": "47f0230b-065a-42d9-e1e5-a10d648f3ffb"
      },
      "execution_count": 8,
      "outputs": [
        {
          "output_type": "execute_result",
          "data": {
            "text/plain": [
              "Index(['Date', 'Symbol', 'Series', 'Prev Close', 'Open', 'High', 'Low', 'Last',\n",
              "       'Close', 'VWAP', 'Volume', 'Turnover', 'Trades', 'Deliverable Volume',\n",
              "       '%Deliverble'],\n",
              "      dtype='object')"
            ]
          },
          "metadata": {},
          "execution_count": 8
        }
      ]
    },
    {
      "cell_type": "code",
      "source": [
        "data = data.drop(columns=['Symbol', 'Series', 'Last', 'Trades', 'Deliverable Volume','%Deliverble'], axis=1);\n",
        "data = data[['Date','Prev Close','Open', 'High', 'Low', 'VWAP','Volume', 'Turnover','Close']];\n",
        "data.head()\n",
        ""
      ],
      "metadata": {
        "colab": {
          "base_uri": "https://localhost:8080/",
          "height": 206
        },
        "id": "r8TVyJHed0gH",
        "outputId": "93ef0fe6-7f33-43d1-9f47-9227ce53709e"
      },
      "execution_count": 9,
      "outputs": [
        {
          "output_type": "execute_result",
          "data": {
            "text/plain": [
              "        Date  Prev Close    Open    High     Low    VWAP   Volume  \\\n",
              "0 1996-01-01      204.65  205.00  206.10  203.65  205.26  3717450   \n",
              "1 1996-02-01      205.75  205.25  206.25  202.65  204.13  6024650   \n",
              "2 1996-03-01      204.15  207.50  216.95  205.25  207.04  7473500   \n",
              "3 1996-04-01      205.70  203.75  204.40  201.05  202.47  7744000   \n",
              "4 1996-05-01      203.80  203.00  203.00  200.65  202.05  5952000   \n",
              "\n",
              "       Turnover   Close  \n",
              "0  7.630000e+13  205.75  \n",
              "1  1.230000e+14  204.15  \n",
              "2  1.550000e+14  205.70  \n",
              "3  1.570000e+14  203.80  \n",
              "4  1.200000e+14  202.40  "
            ],
            "text/html": [
              "\n",
              "  <div id=\"df-695f64e6-9868-46f7-bb1c-5f6b1458f958\" class=\"colab-df-container\">\n",
              "    <div>\n",
              "<style scoped>\n",
              "    .dataframe tbody tr th:only-of-type {\n",
              "        vertical-align: middle;\n",
              "    }\n",
              "\n",
              "    .dataframe tbody tr th {\n",
              "        vertical-align: top;\n",
              "    }\n",
              "\n",
              "    .dataframe thead th {\n",
              "        text-align: right;\n",
              "    }\n",
              "</style>\n",
              "<table border=\"1\" class=\"dataframe\">\n",
              "  <thead>\n",
              "    <tr style=\"text-align: right;\">\n",
              "      <th></th>\n",
              "      <th>Date</th>\n",
              "      <th>Prev Close</th>\n",
              "      <th>Open</th>\n",
              "      <th>High</th>\n",
              "      <th>Low</th>\n",
              "      <th>VWAP</th>\n",
              "      <th>Volume</th>\n",
              "      <th>Turnover</th>\n",
              "      <th>Close</th>\n",
              "    </tr>\n",
              "  </thead>\n",
              "  <tbody>\n",
              "    <tr>\n",
              "      <th>0</th>\n",
              "      <td>1996-01-01</td>\n",
              "      <td>204.65</td>\n",
              "      <td>205.00</td>\n",
              "      <td>206.10</td>\n",
              "      <td>203.65</td>\n",
              "      <td>205.26</td>\n",
              "      <td>3717450</td>\n",
              "      <td>7.630000e+13</td>\n",
              "      <td>205.75</td>\n",
              "    </tr>\n",
              "    <tr>\n",
              "      <th>1</th>\n",
              "      <td>1996-02-01</td>\n",
              "      <td>205.75</td>\n",
              "      <td>205.25</td>\n",
              "      <td>206.25</td>\n",
              "      <td>202.65</td>\n",
              "      <td>204.13</td>\n",
              "      <td>6024650</td>\n",
              "      <td>1.230000e+14</td>\n",
              "      <td>204.15</td>\n",
              "    </tr>\n",
              "    <tr>\n",
              "      <th>2</th>\n",
              "      <td>1996-03-01</td>\n",
              "      <td>204.15</td>\n",
              "      <td>207.50</td>\n",
              "      <td>216.95</td>\n",
              "      <td>205.25</td>\n",
              "      <td>207.04</td>\n",
              "      <td>7473500</td>\n",
              "      <td>1.550000e+14</td>\n",
              "      <td>205.70</td>\n",
              "    </tr>\n",
              "    <tr>\n",
              "      <th>3</th>\n",
              "      <td>1996-04-01</td>\n",
              "      <td>205.70</td>\n",
              "      <td>203.75</td>\n",
              "      <td>204.40</td>\n",
              "      <td>201.05</td>\n",
              "      <td>202.47</td>\n",
              "      <td>7744000</td>\n",
              "      <td>1.570000e+14</td>\n",
              "      <td>203.80</td>\n",
              "    </tr>\n",
              "    <tr>\n",
              "      <th>4</th>\n",
              "      <td>1996-05-01</td>\n",
              "      <td>203.80</td>\n",
              "      <td>203.00</td>\n",
              "      <td>203.00</td>\n",
              "      <td>200.65</td>\n",
              "      <td>202.05</td>\n",
              "      <td>5952000</td>\n",
              "      <td>1.200000e+14</td>\n",
              "      <td>202.40</td>\n",
              "    </tr>\n",
              "  </tbody>\n",
              "</table>\n",
              "</div>\n",
              "    <div class=\"colab-df-buttons\">\n",
              "\n",
              "  <div class=\"colab-df-container\">\n",
              "    <button class=\"colab-df-convert\" onclick=\"convertToInteractive('df-695f64e6-9868-46f7-bb1c-5f6b1458f958')\"\n",
              "            title=\"Convert this dataframe to an interactive table.\"\n",
              "            style=\"display:none;\">\n",
              "\n",
              "  <svg xmlns=\"http://www.w3.org/2000/svg\" height=\"24px\" viewBox=\"0 -960 960 960\">\n",
              "    <path d=\"M120-120v-720h720v720H120Zm60-500h600v-160H180v160Zm220 220h160v-160H400v160Zm0 220h160v-160H400v160ZM180-400h160v-160H180v160Zm440 0h160v-160H620v160ZM180-180h160v-160H180v160Zm440 0h160v-160H620v160Z\"/>\n",
              "  </svg>\n",
              "    </button>\n",
              "\n",
              "  <style>\n",
              "    .colab-df-container {\n",
              "      display:flex;\n",
              "      gap: 12px;\n",
              "    }\n",
              "\n",
              "    .colab-df-convert {\n",
              "      background-color: #E8F0FE;\n",
              "      border: none;\n",
              "      border-radius: 50%;\n",
              "      cursor: pointer;\n",
              "      display: none;\n",
              "      fill: #1967D2;\n",
              "      height: 32px;\n",
              "      padding: 0 0 0 0;\n",
              "      width: 32px;\n",
              "    }\n",
              "\n",
              "    .colab-df-convert:hover {\n",
              "      background-color: #E2EBFA;\n",
              "      box-shadow: 0px 1px 2px rgba(60, 64, 67, 0.3), 0px 1px 3px 1px rgba(60, 64, 67, 0.15);\n",
              "      fill: #174EA6;\n",
              "    }\n",
              "\n",
              "    .colab-df-buttons div {\n",
              "      margin-bottom: 4px;\n",
              "    }\n",
              "\n",
              "    [theme=dark] .colab-df-convert {\n",
              "      background-color: #3B4455;\n",
              "      fill: #D2E3FC;\n",
              "    }\n",
              "\n",
              "    [theme=dark] .colab-df-convert:hover {\n",
              "      background-color: #434B5C;\n",
              "      box-shadow: 0px 1px 3px 1px rgba(0, 0, 0, 0.15);\n",
              "      filter: drop-shadow(0px 1px 2px rgba(0, 0, 0, 0.3));\n",
              "      fill: #FFFFFF;\n",
              "    }\n",
              "  </style>\n",
              "\n",
              "    <script>\n",
              "      const buttonEl =\n",
              "        document.querySelector('#df-695f64e6-9868-46f7-bb1c-5f6b1458f958 button.colab-df-convert');\n",
              "      buttonEl.style.display =\n",
              "        google.colab.kernel.accessAllowed ? 'block' : 'none';\n",
              "\n",
              "      async function convertToInteractive(key) {\n",
              "        const element = document.querySelector('#df-695f64e6-9868-46f7-bb1c-5f6b1458f958');\n",
              "        const dataTable =\n",
              "          await google.colab.kernel.invokeFunction('convertToInteractive',\n",
              "                                                    [key], {});\n",
              "        if (!dataTable) return;\n",
              "\n",
              "        const docLinkHtml = 'Like what you see? Visit the ' +\n",
              "          '<a target=\"_blank\" href=https://colab.research.google.com/notebooks/data_table.ipynb>data table notebook</a>'\n",
              "          + ' to learn more about interactive tables.';\n",
              "        element.innerHTML = '';\n",
              "        dataTable['output_type'] = 'display_data';\n",
              "        await google.colab.output.renderOutput(dataTable, element);\n",
              "        const docLink = document.createElement('div');\n",
              "        docLink.innerHTML = docLinkHtml;\n",
              "        element.appendChild(docLink);\n",
              "      }\n",
              "    </script>\n",
              "  </div>\n",
              "\n",
              "\n",
              "<div id=\"df-4044b00f-c081-4b3f-b610-2995f50bce1a\">\n",
              "  <button class=\"colab-df-quickchart\" onclick=\"quickchart('df-4044b00f-c081-4b3f-b610-2995f50bce1a')\"\n",
              "            title=\"Suggest charts\"\n",
              "            style=\"display:none;\">\n",
              "\n",
              "<svg xmlns=\"http://www.w3.org/2000/svg\" height=\"24px\"viewBox=\"0 0 24 24\"\n",
              "     width=\"24px\">\n",
              "    <g>\n",
              "        <path d=\"M19 3H5c-1.1 0-2 .9-2 2v14c0 1.1.9 2 2 2h14c1.1 0 2-.9 2-2V5c0-1.1-.9-2-2-2zM9 17H7v-7h2v7zm4 0h-2V7h2v10zm4 0h-2v-4h2v4z\"/>\n",
              "    </g>\n",
              "</svg>\n",
              "  </button>\n",
              "\n",
              "<style>\n",
              "  .colab-df-quickchart {\n",
              "      --bg-color: #E8F0FE;\n",
              "      --fill-color: #1967D2;\n",
              "      --hover-bg-color: #E2EBFA;\n",
              "      --hover-fill-color: #174EA6;\n",
              "      --disabled-fill-color: #AAA;\n",
              "      --disabled-bg-color: #DDD;\n",
              "  }\n",
              "\n",
              "  [theme=dark] .colab-df-quickchart {\n",
              "      --bg-color: #3B4455;\n",
              "      --fill-color: #D2E3FC;\n",
              "      --hover-bg-color: #434B5C;\n",
              "      --hover-fill-color: #FFFFFF;\n",
              "      --disabled-bg-color: #3B4455;\n",
              "      --disabled-fill-color: #666;\n",
              "  }\n",
              "\n",
              "  .colab-df-quickchart {\n",
              "    background-color: var(--bg-color);\n",
              "    border: none;\n",
              "    border-radius: 50%;\n",
              "    cursor: pointer;\n",
              "    display: none;\n",
              "    fill: var(--fill-color);\n",
              "    height: 32px;\n",
              "    padding: 0;\n",
              "    width: 32px;\n",
              "  }\n",
              "\n",
              "  .colab-df-quickchart:hover {\n",
              "    background-color: var(--hover-bg-color);\n",
              "    box-shadow: 0 1px 2px rgba(60, 64, 67, 0.3), 0 1px 3px 1px rgba(60, 64, 67, 0.15);\n",
              "    fill: var(--button-hover-fill-color);\n",
              "  }\n",
              "\n",
              "  .colab-df-quickchart-complete:disabled,\n",
              "  .colab-df-quickchart-complete:disabled:hover {\n",
              "    background-color: var(--disabled-bg-color);\n",
              "    fill: var(--disabled-fill-color);\n",
              "    box-shadow: none;\n",
              "  }\n",
              "\n",
              "  .colab-df-spinner {\n",
              "    border: 2px solid var(--fill-color);\n",
              "    border-color: transparent;\n",
              "    border-bottom-color: var(--fill-color);\n",
              "    animation:\n",
              "      spin 1s steps(1) infinite;\n",
              "  }\n",
              "\n",
              "  @keyframes spin {\n",
              "    0% {\n",
              "      border-color: transparent;\n",
              "      border-bottom-color: var(--fill-color);\n",
              "      border-left-color: var(--fill-color);\n",
              "    }\n",
              "    20% {\n",
              "      border-color: transparent;\n",
              "      border-left-color: var(--fill-color);\n",
              "      border-top-color: var(--fill-color);\n",
              "    }\n",
              "    30% {\n",
              "      border-color: transparent;\n",
              "      border-left-color: var(--fill-color);\n",
              "      border-top-color: var(--fill-color);\n",
              "      border-right-color: var(--fill-color);\n",
              "    }\n",
              "    40% {\n",
              "      border-color: transparent;\n",
              "      border-right-color: var(--fill-color);\n",
              "      border-top-color: var(--fill-color);\n",
              "    }\n",
              "    60% {\n",
              "      border-color: transparent;\n",
              "      border-right-color: var(--fill-color);\n",
              "    }\n",
              "    80% {\n",
              "      border-color: transparent;\n",
              "      border-right-color: var(--fill-color);\n",
              "      border-bottom-color: var(--fill-color);\n",
              "    }\n",
              "    90% {\n",
              "      border-color: transparent;\n",
              "      border-bottom-color: var(--fill-color);\n",
              "    }\n",
              "  }\n",
              "</style>\n",
              "\n",
              "  <script>\n",
              "    async function quickchart(key) {\n",
              "      const quickchartButtonEl =\n",
              "        document.querySelector('#' + key + ' button');\n",
              "      quickchartButtonEl.disabled = true;  // To prevent multiple clicks.\n",
              "      quickchartButtonEl.classList.add('colab-df-spinner');\n",
              "      try {\n",
              "        const charts = await google.colab.kernel.invokeFunction(\n",
              "            'suggestCharts', [key], {});\n",
              "      } catch (error) {\n",
              "        console.error('Error during call to suggestCharts:', error);\n",
              "      }\n",
              "      quickchartButtonEl.classList.remove('colab-df-spinner');\n",
              "      quickchartButtonEl.classList.add('colab-df-quickchart-complete');\n",
              "    }\n",
              "    (() => {\n",
              "      let quickchartButtonEl =\n",
              "        document.querySelector('#df-4044b00f-c081-4b3f-b610-2995f50bce1a button');\n",
              "      quickchartButtonEl.style.display =\n",
              "        google.colab.kernel.accessAllowed ? 'block' : 'none';\n",
              "    })();\n",
              "  </script>\n",
              "</div>\n",
              "    </div>\n",
              "  </div>\n"
            ]
          },
          "metadata": {},
          "execution_count": 9
        }
      ]
    },
    {
      "cell_type": "code",
      "source": [
        "data.loc[5975,:]"
      ],
      "metadata": {
        "colab": {
          "base_uri": "https://localhost:8080/"
        },
        "id": "eyTx5hRVd0in",
        "outputId": "9cb16d38-a2d8-49a3-ac77-d9851cd4abd1"
      },
      "execution_count": 10,
      "outputs": [
        {
          "output_type": "execute_result",
          "data": {
            "text/plain": [
              "Date          2020-01-01 00:00:00\n",
              "Prev Close                1514.05\n",
              "Open                       1518.0\n",
              "High                       1527.1\n",
              "Low                        1505.5\n",
              "VWAP                      1515.23\n",
              "Volume                    6402372\n",
              "Turnover        970000000000000.0\n",
              "Close                      1509.6\n",
              "Name: 5975, dtype: object"
            ]
          },
          "metadata": {},
          "execution_count": 10
        }
      ]
    },
    {
      "cell_type": "code",
      "source": [
        "data.loc[5974,:]"
      ],
      "metadata": {
        "colab": {
          "base_uri": "https://localhost:8080/"
        },
        "id": "a4uXoxy-d0ld",
        "outputId": "ba603736-81e7-4f69-f2e5-1d118c4b3cfe"
      },
      "execution_count": 11,
      "outputs": [
        {
          "output_type": "execute_result",
          "data": {
            "text/plain": [
              "Date          2019-12-31 00:00:00\n",
              "Prev Close                 1544.2\n",
              "Open                       1542.0\n",
              "High                       1543.7\n",
              "Low                       1508.05\n",
              "VWAP                      1525.14\n",
              "Volume                   10150467\n",
              "Turnover       1550000000000000.0\n",
              "Close                     1514.05\n",
              "Name: 5974, dtype: object"
            ]
          },
          "metadata": {},
          "execution_count": 11
        }
      ]
    },
    {
      "cell_type": "code",
      "source": [
        "data = data.drop(columns=['Date'], axis=1);\\\n",
        "data.info"
      ],
      "metadata": {
        "colab": {
          "base_uri": "https://localhost:8080/"
        },
        "id": "uvptsNGHd0pA",
        "outputId": "9fdbcb10-ff6b-47cf-a841-2e4d6b647127"
      },
      "execution_count": 12,
      "outputs": [
        {
          "output_type": "execute_result",
          "data": {
            "text/plain": [
              "<bound method DataFrame.info of       Prev Close     Open     High      Low     VWAP    Volume      Turnover  \\\n",
              "0         204.65   205.00   206.10   203.65   205.26   3717450  7.630000e+13   \n",
              "1         205.75   205.25   206.25   202.65   204.13   6024650  1.230000e+14   \n",
              "2         204.15   207.50   216.95   205.25   207.04   7473500  1.550000e+14   \n",
              "3         205.70   203.75   204.40   201.05   202.47   7744000  1.570000e+14   \n",
              "4         203.80   203.00   203.00   200.65   202.05   5952000  1.200000e+14   \n",
              "...          ...      ...      ...      ...      ...       ...           ...   \n",
              "6200     1899.50  1951.00  1970.00  1926.25  1952.18  20918665  4.083700e+15   \n",
              "6201     1950.70  1964.00  1974.00  1932.00  1952.11  14277083  2.787040e+15   \n",
              "6202     1964.05  1980.00  1992.95  1942.20  1969.06  15062376  2.965870e+15   \n",
              "6203     1947.80  1953.05  1965.00  1930.05  1946.67  11924527  2.321310e+15   \n",
              "6204     1952.60  1940.50  1956.10  1921.40  1935.45  21845931  4.228160e+15   \n",
              "\n",
              "        Close  \n",
              "0      205.75  \n",
              "1      204.15  \n",
              "2      205.70  \n",
              "3      203.80  \n",
              "4      202.40  \n",
              "...       ...  \n",
              "6200  1950.70  \n",
              "6201  1964.05  \n",
              "6202  1947.80  \n",
              "6203  1952.60  \n",
              "6204  1929.80  \n",
              "\n",
              "[6205 rows x 8 columns]>"
            ]
          },
          "metadata": {},
          "execution_count": 12
        }
      ]
    },
    {
      "cell_type": "code",
      "source": [
        "scaler = MinMaxScaler(feature_range=(0,1));\n",
        "dataset = data.values.astype('float32')\n",
        "dataset.shape"
      ],
      "metadata": {
        "colab": {
          "base_uri": "https://localhost:8080/"
        },
        "id": "h7wAKbUZeZec",
        "outputId": "71051f2c-70dc-402c-8f66-16f35c12164a"
      },
      "execution_count": 13,
      "outputs": [
        {
          "output_type": "execute_result",
          "data": {
            "text/plain": [
              "(6205, 8)"
            ]
          },
          "metadata": {},
          "execution_count": 13
        }
      ]
    },
    {
      "cell_type": "code",
      "source": [
        "scaled1 = scaler.fit_transform(dataset[0:5974,:]); # Years until 2019\n",
        "scaled2 = scaler.fit_transform(dataset[5974:6205,:]); # Year 2020\n",
        "scaled1.shape"
      ],
      "metadata": {
        "colab": {
          "base_uri": "https://localhost:8080/"
        },
        "id": "qlNzeozaeZhO",
        "outputId": "666310ae-1790-4218-a168-8ce2b647accd"
      },
      "execution_count": 14,
      "outputs": [
        {
          "output_type": "execute_result",
          "data": {
            "text/plain": [
              "(5974, 8)"
            ]
          },
          "metadata": {},
          "execution_count": 14
        }
      ]
    },
    {
      "cell_type": "code",
      "source": [
        "scaled2.shape"
      ],
      "metadata": {
        "colab": {
          "base_uri": "https://localhost:8080/"
        },
        "id": "sy7mM67leZj2",
        "outputId": "53eac258-1926-4dee-e7a0-3d05f5aa59e5"
      },
      "execution_count": 15,
      "outputs": [
        {
          "output_type": "execute_result",
          "data": {
            "text/plain": [
              "(231, 8)"
            ]
          },
          "metadata": {},
          "execution_count": 15
        }
      ]
    },
    {
      "cell_type": "code",
      "source": [
        "scaled  = np.concatenate((scaled1, scaled2), axis=0);\n",
        "scaled.shape\n"
      ],
      "metadata": {
        "colab": {
          "base_uri": "https://localhost:8080/"
        },
        "id": "bHhOlVBZeZmU",
        "outputId": "2b6086d2-9f4e-4c35-f48e-eb93eec161e4"
      },
      "execution_count": 16,
      "outputs": [
        {
          "output_type": "execute_result",
          "data": {
            "text/plain": [
              "(6205, 8)"
            ]
          },
          "metadata": {},
          "execution_count": 16
        }
      ]
    },
    {
      "cell_type": "code",
      "source": [
        "X_train = scaled[0:5974,0:-1];\n",
        "X_train.shape"
      ],
      "metadata": {
        "colab": {
          "base_uri": "https://localhost:8080/"
        },
        "id": "3NEalZBreZpV",
        "outputId": "6619a436-2d65-4ea9-cbeb-eee850a4b99a"
      },
      "execution_count": 17,
      "outputs": [
        {
          "output_type": "execute_result",
          "data": {
            "text/plain": [
              "(5974, 7)"
            ]
          },
          "metadata": {},
          "execution_count": 17
        }
      ]
    },
    {
      "cell_type": "code",
      "source": [
        "X_test = scaled[5974:-1,0:-1];\n",
        "X_test.shape"
      ],
      "metadata": {
        "colab": {
          "base_uri": "https://localhost:8080/"
        },
        "id": "oV-7x3dAeZsh",
        "outputId": "f6d4eef9-69c2-4e1d-d723-0ad9dbf2d6a8"
      },
      "execution_count": 18,
      "outputs": [
        {
          "output_type": "execute_result",
          "data": {
            "text/plain": [
              "(230, 7)"
            ]
          },
          "metadata": {},
          "execution_count": 18
        }
      ]
    },
    {
      "cell_type": "code",
      "source": [
        "Y_train = scaled[0:5974,-1];\n",
        "Y_true  = scaled[5974:-1,-1];"
      ],
      "metadata": {
        "id": "jDIvoTmKerk-"
      },
      "execution_count": 21,
      "outputs": []
    },
    {
      "cell_type": "code",
      "source": [
        "Y_train.shape,Y_true.shape"
      ],
      "metadata": {
        "colab": {
          "base_uri": "https://localhost:8080/"
        },
        "id": "r3ND8V1uerny",
        "outputId": "da305c43-95f4-4769-aeb2-ed0f930ad1dd"
      },
      "execution_count": 22,
      "outputs": [
        {
          "output_type": "execute_result",
          "data": {
            "text/plain": [
              "((5974,), (230,))"
            ]
          },
          "metadata": {},
          "execution_count": 22
        }
      ]
    },
    {
      "cell_type": "code",
      "source": [
        "plt.plot(Y_train)"
      ],
      "metadata": {
        "colab": {
          "base_uri": "https://localhost:8080/",
          "height": 448
        },
        "id": "BU2IVs8werq3",
        "outputId": "2bc1173b-9264-470f-8bb0-29b2fba440a2"
      },
      "execution_count": 23,
      "outputs": [
        {
          "output_type": "execute_result",
          "data": {
            "text/plain": [
              "[<matplotlib.lines.Line2D at 0x794d7a22b9a0>]"
            ]
          },
          "metadata": {},
          "execution_count": 23
        },
        {
          "output_type": "display_data",
          "data": {
            "text/plain": [
              "<Figure size 640x480 with 1 Axes>"
            ],
            "image/png": "[encoded data removed]"
          },
          "metadata": {}
        }
      ]
    },
    {
      "cell_type": "code",
      "source": [
        "X_train = np.reshape(X_train,(X_train.shape[0],X_train.shape[1],1));\n",
        "X_train.shape"
      ],
      "metadata": {
        "colab": {
          "base_uri": "https://localhost:8080/"
        },
        "id": "EQPuJXkBertK",
        "outputId": "db461096-e44a-4582-af7a-9c29e9bdc063"
      },
      "execution_count": 24,
      "outputs": [
        {
          "output_type": "execute_result",
          "data": {
            "text/plain": [
              "(5974, 7, 1)"
            ]
          },
          "metadata": {},
          "execution_count": 24
        }
      ]
    },
    {
      "cell_type": "code",
      "source": [
        "X_test = np.array(X_test);\n",
        "X_test = np.reshape(X_test,(X_test.shape[0],X_test.shape[1],1));\n",
        "X_test.shape"
      ],
      "metadata": {
        "colab": {
          "base_uri": "https://localhost:8080/"
        },
        "id": "7P33HfxCerv9",
        "outputId": "d508d60b-ebef-4a10-cef7-3f7f953e0cd6"
      },
      "execution_count": 25,
      "outputs": [
        {
          "output_type": "execute_result",
          "data": {
            "text/plain": [
              "(230, 7, 1)"
            ]
          },
          "metadata": {},
          "execution_count": 25
        }
      ]
    },
    {
      "cell_type": "code",
      "source": [
        "LSTM_model = Sequential();\n",
        "LSTM_model.add(LSTM(units=50, return_sequences=True, input_shape=(7, 1)))\n",
        "LSTM_model.add(LSTM(units=50, return_sequences=False))\n",
        "LSTM_model.add(Dense(25, activation='sigmoid'))\n",
        "LSTM_model.add(Dropout(0.2))\n",
        "LSTM_model.add(Dense(1, activation='sigmoid'))"
      ],
      "metadata": {
        "id": "3HlTfbi4eryv"
      },
      "execution_count": 26,
      "outputs": []
    },
    {
      "cell_type": "code",
      "source": [
        "LSTM_model.compile(loss = 'mean_squared_error',optimizer = 'adam');\n"
      ],
      "metadata": {
        "id": "Cv9R62yeer2O"
      },
      "execution_count": 27,
      "outputs": []
    },
    {
      "cell_type": "code",
      "source": [
        "history = LSTM_model.fit(X_train,Y_train,batch_size = 10,epochs = 5,validation_data=(X_test, Y_true));\n",
        "plt.plot(history.history['loss'],label='train');\n",
        "plt.plot(history.history['val_loss'],label='test');\n",
        "plt.legend();"
      ],
      "metadata": {
        "colab": {
          "base_uri": "https://localhost:8080/",
          "height": 612
        },
        "id": "xt-l543nfHfO",
        "outputId": "5f429d63-153c-4207-b8aa-987f46073de9"
      },
      "execution_count": 28,
      "outputs": [
        {
          "output_type": "stream",
          "name": "stdout",
          "text": [
            "Epoch 1/5\n",
            "598/598 [==============================] - 13s 12ms/step - loss: 0.0133 - val_loss: 0.0025\n",
            "Epoch 2/5\n",
            "598/598 [==============================] - 5s 9ms/step - loss: 0.0011 - val_loss: 0.0012\n",
            "Epoch 3/5\n",
            "598/598 [==============================] - 7s 12ms/step - loss: 9.1840e-04 - val_loss: 0.0011\n",
            "Epoch 4/5\n",
            "598/598 [==============================] - 6s 10ms/step - loss: 8.5898e-04 - val_loss: 0.0026\n",
            "Epoch 5/5\n",
            "598/598 [==============================] - 8s 14ms/step - loss: 8.2347e-04 - val_loss: 0.0015\n"
          ]
        },
        {
          "output_type": "display_data",
          "data": {
            "text/plain": [
              "<Figure size 640x480 with 1 Axes>"
            ],
            "image/png": "[encoded data removed]"
          },
          "metadata": {}
        }
      ]
    },
    {
      "cell_type": "code",
      "source": [
        "y_pred   = LSTM_model.predict(X_test);"
      ],
      "metadata": {
        "colab": {
          "base_uri": "https://localhost:8080/"
        },
        "id": "JGKAnACPfHh6",
        "outputId": "e8aa3942-61b6-4f0b-fe2b-1092d5fc7227"
      },
      "execution_count": 29,
      "outputs": [
        {
          "output_type": "stream",
          "name": "stdout",
          "text": [
            "8/8 [==============================] - 1s 3ms/step\n"
          ]
        }
      ]
    },
    {
      "cell_type": "code",
      "source": [
        "X_test   = X_test.reshape(X_test.shape[0],X_test.shape[1]);\n",
        "datafwd  = np.concatenate((X_test, y_pred), axis=1);\n",
        "inv_data = scaler.inverse_transform(datafwd);\n",
        "ypred    = inv_data[:,-1];"
      ],
      "metadata": {
        "id": "DHQy_ckCfHkc"
      },
      "execution_count": 30,
      "outputs": []
    },
    {
      "cell_type": "code",
      "source": [
        "plt.figure(figsize=(16,4));\n",
        "plt.plot(data.Close);\n",
        "index_2020 = list(range(5974,6204));\n",
        "plt.plot(index_2020,ypred,label='LSTM predicted');\n",
        "plt.legend();"
      ],
      "metadata": {
        "colab": {
          "base_uri": "https://localhost:8080/",
          "height": 363
        },
        "id": "H5uH0wnCfHn1",
        "outputId": "cebb88ec-2d2b-414c-9a94-7938753a7d76"
      },
      "execution_count": 31,
      "outputs": [
        {
          "output_type": "display_data",
          "data": {
            "text/plain": [
              "<Figure size 1600x400 with 1 Axes>"
            ],
            "image/png": "[encoded data removed]"
          },
          "metadata": {}
        }
      ]
    },
    {
      "cell_type": "code",
      "source": [
        "plt.figure(figsize=(16,4));\n",
        "plt.plot(data.Close[5974:6204],'r',label='truth');\n",
        "index_2020 = list(range(5974,6204));\n",
        "plt.plot(index_2020,ypred,'k',label='predicted');\n",
        "plt.legend()\n",
        ""
      ],
      "metadata": {
        "colab": {
          "base_uri": "https://localhost:8080/",
          "height": 381
        },
        "id": "DRkGwVarfQl4",
        "outputId": "db562557-556f-41d7-ffd1-63be6fa972f5"
      },
      "execution_count": 32,
      "outputs": [
        {
          "output_type": "execute_result",
          "data": {
            "text/plain": [
              "<matplotlib.legend.Legend at 0x794d776d5cf0>"
            ]
          },
          "metadata": {},
          "execution_count": 32
        },
        {
          "output_type": "display_data",
          "data": {
            "text/plain": [
              "<Figure size 1600x400 with 1 Axes>"
            ],
            "image/png": "[encoded data removed]"
          },
          "metadata": {}
        }
      ]
    },
    {
      "cell_type": "code",
      "source": [],
      "metadata": {
        "id": "wZXmaulNfQor"
      },
      "execution_count": null,
      "outputs": []
    },
    {
      "cell_type": "code",
      "source": [],
      "metadata": {
        "id": "TWzdXbkffQrS"
      },
      "execution_count": null,
      "outputs": []
    },
    {
      "cell_type": "code",
      "source": [],
      "metadata": {
        "id": "tDqbrO4-fQt9"
      },
      "execution_count": null,
      "outputs": []
    },
    {
      "cell_type": "code",
      "source": [],
      "metadata": {
        "id": "YioRCQFCfQwX"
      },
      "execution_count": null,
      "outputs": []
    },
    {
      "cell_type": "code",
      "source": [],
      "metadata": {
        "id": "0omw7NABfQz8"
      },
      "execution_count": null,
      "outputs": []
    }
  ]
}